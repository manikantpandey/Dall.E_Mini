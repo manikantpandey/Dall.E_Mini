{
  "nbformat": 4,
  "nbformat_minor": 0,
  "metadata": {
    "colab": {
      "provenance": [],
      "collapsed_sections": []
    },
    "kernelspec": {
      "name": "python3",
      "display_name": "Python 3"
    },
    "language_info": {
      "name": "python"
    },
    "accelerator": "GPU",
    "gpuClass": "standard"
  },
  "cells": [
    {
      "cell_type": "code",
      "source": [
        "USE_MEGA = False #@param {type:\"boolean\"}\n",
        "\n",
        "!pip install -q dalle-mini\n",
        "!pip install -q git+https://github.com/patil-suraj/vqgan-jax.git\n",
        "\n",
        "import jax\n",
        "import jax.numpy as jnp\n",
        "import numpy as np\n",
        "import random\n",
        "from dalle_mini import DalleBart, DalleBartProcessor\n",
        "from flax.jax_utils import replicate\n",
        "from flax.training.common_utils import shard_prng_key\n",
        "from functools import partial\n",
        "from google.colab import widgets\n",
        "from PIL import Image\n",
        "from tqdm.notebook import trange\n",
        "from vqgan_jax.modeling_flax_vqgan import VQModel\n",
        "\n",
        "DALLE_MODEL = \"dalle-mini/dalle-mini/mini-1:v0\" if not USE_MEGA else \"dalle-mini/dalle-mini/mega-1-fp16:latest\"\n",
        "DALLE_COMMIT_ID = None\n",
        "VQGAN_REPO = \"dalle-mini/vqgan_imagenet_f16_16384\"\n",
        "VQGAN_COMMIT_ID = \"e93a26e7707683d349bf5d5c41c5b0ef69b677a9\"\n",
        "\n",
        "model, params = DalleBart.from_pretrained(DALLE_MODEL, revision=DALLE_COMMIT_ID, dtype=jnp.float16, _do_init=False)\n",
        "vqgan, vqgan_params = VQModel.from_pretrained(VQGAN_REPO, revision=VQGAN_COMMIT_ID, _do_init=False)\n",
        "params = replicate(params)\n",
        "vqgan_params = replicate(vqgan_params)\n",
        "\n",
        "@partial(jax.pmap, axis_name=\"batch\", static_broadcasted_argnums=(3, 4, 5, 6))\n",
        "def p_generate(tokenized_prompt, key, params, top_k, top_p, temperature, condition_scale):\n",
        "  return model.generate(**tokenized_prompt, prng_key=key, params=params, top_k=top_k, top_p=top_p, temperature=temperature, condition_scale=condition_scale)\n",
        "@partial(jax.pmap, axis_name=\"batch\")\n",
        "def p_decode(indices, params):\n",
        "  return vqgan.decode_code(indices, params=params)\n",
        "\n",
        "seed = random.randint(0, 2**32 - 1)\n",
        "key = jax.random.PRNGKey(seed)\n",
        "processor = DalleBartProcessor.from_pretrained(DALLE_MODEL, revision=DALLE_COMMIT_ID)\n",
        "\n",
        "n_predictions = 9\n",
        "gen_top_k = None\n",
        "gen_top_p = None\n",
        "temperature = None\n",
        "cond_scale = 10.0"
      ],
      "metadata": {
        "id": "fZ_llzS5TcWQ"
      },
      "execution_count": null,
      "outputs": []
    },
    {
      "cell_type": "code",
      "source": [
        "try:\n",
        "  prompt = \"a family of monkeys swimming in the ocean\" #@param {type:\"string\"}\n",
        "  prompts = [prompt]\n",
        "  tokenized_prompts = processor(prompts)\n",
        "  tokenized_prompt = replicate(tokenized_prompts)\n",
        "  images = []\n",
        "  for i in trange(max(n_predictions // jax.device_count(), 1)):\n",
        "    key, subkey = jax.random.split(key)\n",
        "    encoded_images = p_generate(tokenized_prompt, shard_prng_key(subkey), params, gen_top_k, gen_top_p, temperature, cond_scale)\n",
        "    encoded_images = encoded_images.sequences[..., 1:]\n",
        "    decoded_images = p_decode(encoded_images, vqgan_params)\n",
        "    decoded_images = decoded_images.clip(0.0, 1.0).reshape((-1, 256, 256, 3))\n",
        "    for decoded_img in decoded_images:\n",
        "      img = Image.fromarray(np.asarray(decoded_img * 255, dtype=np.uint8))\n",
        "      images.append(img)\n",
        "  print(prompt)\n",
        "  grid = widgets.Grid(3, 3)\n",
        "  for i in range(3):\n",
        "    for j in range(3):\n",
        "      with grid.output_to(i, j):\n",
        "        display(images[i*3+j])\n",
        "except NameError:\n",
        "  print(\"Please run the initialization code block first.\")"
      ],
      "metadata": {
        "id": "v167Ky4gTkqb"
      },
      "execution_count": null,
      "outputs": []
    }
  ]
}